{
 "cells": [
  {
   "cell_type": "code",
   "execution_count": null,
   "metadata": {},
   "outputs": [],
   "source": [
    "!pip install transformers\n",
    "# !pip install git+https://github.com/huggingface/transformers.git"
   ]
  },
  {
   "cell_type": "code",
   "execution_count": null,
   "metadata": {},
   "outputs": [],
   "source": [
    "import numpy as np\n",
    "import matplotlib.pyplot as plt\n",
    "from transformers import pipeline\n",
    "from pylab import rcParams"
   ]
  },
  {
   "cell_type": "code",
   "execution_count": null,
   "metadata": {},
   "outputs": [],
   "source": [
    "rcParams['figure.figsize'] = 10, 5"
   ]
  },
  {
   "cell_type": "code",
   "execution_count": null,
   "metadata": {},
   "outputs": [],
   "source": [
    "zeroshot_classifier = pipeline(\"zero-shot-classification\")"
   ]
  },
  {
   "cell_type": "code",
   "execution_count": null,
   "metadata": {},
   "outputs": [],
   "source": [
    "text_generator = pipeline(\"text-generation\", model='microsoft/Phi-3-mini-4k-instruct')"
   ]
  },
  {
   "cell_type": "code",
   "execution_count": null,
   "metadata": {},
   "outputs": [],
   "source": [
    "results = zeroshot_classifier(\n",
    "    sequences = \"i dont know why, but i am happy\",\n",
    "    candidate_labels = [\n",
    "    \"joy\",\n",
    "    \"sadness\",\n",
    "    \"anger\",\n",
    "    \"fear\",\n",
    "    \"surprise\",\n",
    "    \"disgust\",\n",
    "    \"trust\",\n",
    "    \"anticipation\",\n",
    "    \"love\",\n",
    "    \"guilt\",\n",
    "    \"shame\",\n",
    "    \"pride\",\n",
    "    \"relief\",\n",
    "    \"gratitude\",\n",
    "    \"envy\",\n",
    "    \"boredom\",\n",
    "    \"contentment\",\n",
    "    \"loneliness\",\n",
    "    \"embarrassment\",\n",
    "    \"curiosity\"\n",
    "    ],\n",
    "    multi_label = True\n",
    "    )"
   ]
  },
  {
   "cell_type": "code",
   "execution_count": null,
   "metadata": {},
   "outputs": [],
   "source": [
    "filtered_results = {label: score for label, score in zip(results['labels'], results['scores']) if score > 0.6}\n",
    "for label, score in filtered_results.items():\n",
    "    print(f\"{label}: {score}\")\n",
    "\n",
    "plt.bar(filtered_results.keys(), filtered_results.values())\n",
    "plt.yticks(list(np.arange(0, 1, 0.1)))\n",
    "plt.show()"
   ]
  },
  {
   "cell_type": "code",
   "execution_count": null,
   "metadata": {},
   "outputs": [],
   "source": []
  }
 ],
 "metadata": {
  "kernelspec": {
   "display_name": "Python 3 (ipykernel)",
   "language": "python",
   "name": "python3"
  },
  "language_info": {
   "codemirror_mode": {
    "name": "ipython",
    "version": 3
   },
   "file_extension": ".py",
   "mimetype": "text/x-python",
   "name": "python",
   "nbconvert_exporter": "python",
   "pygments_lexer": "ipython3",
   "version": "3.8.0"
  }
 },
 "nbformat": 4,
 "nbformat_minor": 4
}
